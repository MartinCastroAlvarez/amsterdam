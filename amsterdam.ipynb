{
 "cells": [
  {
   "cell_type": "markdown",
   "metadata": {},
   "source": [
    "# Amsterdan"
   ]
  },
  {
   "cell_type": "markdown",
   "metadata": {},
   "source": [
    "Combinatorics implemented with `numpy` and `scipy`."
   ]
  },
  {
   "cell_type": "code",
   "execution_count": 1,
   "metadata": {},
   "outputs": [],
   "source": [
    "import numpy as np\n",
    "import scipy as sc"
   ]
  },
  {
   "cell_type": "markdown",
   "metadata": {},
   "source": [
    "## Cartesian Product"
   ]
  },
  {
   "cell_type": "markdown",
   "metadata": {},
   "source": [
    "https://en.wikipedia.org/wiki/Cartesian_product"
   ]
  },
  {
   "cell_type": "markdown",
   "metadata": {},
   "source": [
    "In mathematics, specifically set theory, the Cartesian product of two sets A and B, denoted A × B, is the set of all ordered pairs (a, b) where a is in A and b is in B."
   ]
  },
  {
   "cell_type": "markdown",
   "metadata": {},
   "source": [
    "$$ \\mathbf{A} X \\mathbf{B} = \\{ (\\boldsymbol{\\alpha}, \\boldsymbol{\\beta}) | \\boldsymbol{\\alpha} \\in \\mathbf{A}, \\boldsymbol{\\beta} \\in \\mathbf{B} \\} $$"
   ]
  },
  {
   "cell_type": "markdown",
   "metadata": {},
   "source": [
    "$$ |\\mathbf{A} X \\mathbf{B}| = |\\mathbf{A}| X |\\mathbf{B}| $$"
   ]
  },
  {
   "cell_type": "code",
   "execution_count": 386,
   "metadata": {},
   "outputs": [],
   "source": [
    "def cartesian(*arrays) -> np.matrix:\n",
    "    \"\"\"\n",
    "    Generate a cartesian product of input arrays.\n",
    "    \"\"\"\n",
    "    if len(arrays) == 1:\n",
    "        return arrays[0]\n",
    "    dtype: np.dtype = arrays[0][0].dtype\n",
    "    X: np.ndarray = arrays[0]\n",
    "    Y: np.ndarray = cartesian(*arrays[1:])\n",
    "    X = X.reshape(X.shape[0], X.shape[1] if X.ndim > 1 else 1)\n",
    "    Y = Y.reshape(Y.shape[0], Y.shape[1] if Y.ndim > 1 else 1)\n",
    "    n: int = Y.shape[0] * X.shape[0]\n",
    "    X = np.repeat(X, Y.shape[0], axis=0)\n",
    "    Y = np.tile(Y, (int(n / Y.shape[0]), 1))\n",
    "    return np.insert(Y, 0, X.T[0], axis=1)"
   ]
  },
  {
   "cell_type": "code",
   "execution_count": 387,
   "metadata": {},
   "outputs": [
    {
     "name": "stdout",
     "output_type": "stream",
     "text": [
      "[[0 2 4]\n",
      " [0 2 5]\n",
      " [0 3 4]\n",
      " [0 3 5]\n",
      " [1 2 4]\n",
      " [1 2 5]\n",
      " [1 3 4]\n",
      " [1 3 5]]\n"
     ]
    }
   ],
   "source": [
    "X: np.matrix = np.array([ 0, 1 ])\n",
    "Y: np.matrix = np.array([ 2, 3 ])\n",
    "Z: np.matrix = np.array([ 4, 5 ])\n",
    "print(cartesian(X, Y, Z))"
   ]
  },
  {
   "cell_type": "code",
   "execution_count": 388,
   "metadata": {},
   "outputs": [
    {
     "name": "stdout",
     "output_type": "stream",
     "text": [
      "[[0 0]\n",
      " [0 1]\n",
      " [0 2]\n",
      " [1 0]\n",
      " [1 1]\n",
      " [1 2]]\n"
     ]
    }
   ],
   "source": [
    "X: np.ndarray = np.arange(2)\n",
    "Y: np.ndarray = np.arange(3)\n",
    "print(cartesian(X, Y))"
   ]
  },
  {
   "cell_type": "code",
   "execution_count": 389,
   "metadata": {},
   "outputs": [
    {
     "name": "stdout",
     "output_type": "stream",
     "text": [
      "[[0 3 3]\n",
      " [0 4 4]\n",
      " [1 3 3]\n",
      " [1 4 4]]\n"
     ]
    }
   ],
   "source": [
    "X: np.matrix = np.matrix([ [0], [1] ])\n",
    "Y: np.matrix = np.matrix([ [3,3], [4, 4] ])\n",
    "print(cartesian(X, Y))"
   ]
  },
  {
   "cell_type": "markdown",
   "metadata": {},
   "source": [
    "## Permutations"
   ]
  },
  {
   "cell_type": "markdown",
   "metadata": {},
   "source": [
    "https://www.ck12.org/probability/permutations-with-repetition/lesson/Permutations-with-Repetition-BSC-PST/"
   ]
  },
  {
   "cell_type": "markdown",
   "metadata": {},
   "source": [
    "https://brilliant.org/wiki/permutations-with-repetition/"
   ]
  },
  {
   "cell_type": "markdown",
   "metadata": {},
   "source": [
    "A permutation of a set of objects is an ordering of those objects. When some of those objects are identical, the situation is transformed into a problem about permutations with repetition."
   ]
  },
  {
   "cell_type": "markdown",
   "metadata": {},
   "source": [
    "$$ \\mathbf{A}X\\mathbf{A} = \\{ (\\boldsymbol{\\alpha}_i, \\boldsymbol{\\alpha}_j) | \\boldsymbol{\\alpha}_i \\in \\mathbf{A}, \\boldsymbol{\\alpha}_j \\in \\mathbf{A} \\} $$"
   ]
  },
  {
   "cell_type": "markdown",
   "metadata": {},
   "source": [
    "$$ |\\mathbf{A} X \\mathbf{A}| = |\\mathbf{A}|^n $$"
   ]
  },
  {
   "cell_type": "markdown",
   "metadata": {},
   "source": [
    "How many different ways can the letters P, Q, R, S be arranged?"
   ]
  },
  {
   "cell_type": "code",
   "execution_count": 398,
   "metadata": {},
   "outputs": [
    {
     "name": "stdout",
     "output_type": "stream",
     "text": [
      "256\n"
     ]
    }
   ],
   "source": [
    "X: np.matrix = np.array([ 1, 2, 3, 4 ])\n",
    "print(cartesian(X, X, X, X).shape[0])"
   ]
  },
  {
   "cell_type": "markdown",
   "metadata": {},
   "source": [
    "How many different ways can the letters P, Q, R, S be arranged in buckets of 3 letters?"
   ]
  },
  {
   "cell_type": "code",
   "execution_count": 399,
   "metadata": {},
   "outputs": [
    {
     "name": "stdout",
     "output_type": "stream",
     "text": [
      "64\n"
     ]
    }
   ],
   "source": [
    "X: np.matrix = np.array([ 1, 2, 3, 4 ])\n",
    "print(cartesian(X, X, X).shape[0])"
   ]
  },
  {
   "cell_type": "markdown",
   "metadata": {},
   "source": [
    "How many different ways can the letters A, A, A, B, C be arranged"
   ]
  },
  {
   "cell_type": "code",
   "execution_count": 406,
   "metadata": {
    "scrolled": true
   },
   "outputs": [
    {
     "name": "stdout",
     "output_type": "stream",
     "text": [
      "625\n"
     ]
    }
   ],
   "source": [
    "X: np.matrix = np.array([ 1, 1, 1, 2, 3 ])\n",
    "X: np.matrix = np.array([ 1, 1, 1, 2, 3 ])\n",
    "print(cartesian(X, X, X, X).shape[0])"
   ]
  },
  {
   "cell_type": "code",
   "execution_count": null,
   "metadata": {},
   "outputs": [],
   "source": []
  }
 ],
 "metadata": {
  "kernelspec": {
   "display_name": "Python 3",
   "language": "python",
   "name": "python3"
  },
  "language_info": {
   "codemirror_mode": {
    "name": "ipython",
    "version": 3
   },
   "file_extension": ".py",
   "mimetype": "text/x-python",
   "name": "python",
   "nbconvert_exporter": "python",
   "pygments_lexer": "ipython3",
   "version": "3.7.6"
  }
 },
 "nbformat": 4,
 "nbformat_minor": 4
}
